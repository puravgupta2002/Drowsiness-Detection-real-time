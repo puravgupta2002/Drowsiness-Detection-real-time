{
 "cells": [
  {
   "cell_type": "code",
   "execution_count": 1,
   "id": "e54c7b67",
   "metadata": {},
   "outputs": [
    {
     "name": "stdout",
     "output_type": "stream",
     "text": [
      "Note: you may need to restart the kernel to use updated packages.\n"
     ]
    }
   ],
   "source": [
    "pip install -q pytorchvideo transformers evaluate"
   ]
  },
  {
   "cell_type": "code",
   "execution_count": 3,
   "id": "c3cb0495",
   "metadata": {},
   "outputs": [],
   "source": [
    "from huggingface_hub import hf_hub_download\n",
    "import tqdm\n",
    "\n",
    "\n",
    "hf_dataset_identifier = \"sayakpaul/ucf101-subset\"\n",
    "filename = \"UCF101_subset.tar.gz\"\n",
    "file_path = hf_hub_download(repo_id=hf_dataset_identifier, filename=filename, repo_type=\"dataset\")"
   ]
  },
  {
   "cell_type": "code",
   "execution_count": 6,
   "id": "ad438497",
   "metadata": {},
   "outputs": [
    {
     "name": "stdout",
     "output_type": "stream",
     "text": [
      "Collecting facenet-pytorch\n",
      "  Downloading facenet_pytorch-2.6.0-py3-none-any.whl.metadata (12 kB)\n",
      "Requirement already satisfied: numpy<2.0.0,>=1.24.0 in /Applications/anaconda3/envs/dce/lib/python3.10/site-packages (from facenet-pytorch) (1.26.4)\n",
      "Collecting Pillow<10.3.0,>=10.2.0 (from facenet-pytorch)\n",
      "  Downloading pillow-10.2.0-cp310-cp310-macosx_11_0_arm64.whl.metadata (9.7 kB)\n",
      "Requirement already satisfied: requests<3.0.0,>=2.0.0 in /Applications/anaconda3/envs/dce/lib/python3.10/site-packages (from facenet-pytorch) (2.32.3)\n",
      "Collecting torch<2.3.0,>=2.2.0 (from facenet-pytorch)\n",
      "  Downloading torch-2.2.2-cp310-none-macosx_11_0_arm64.whl.metadata (25 kB)\n",
      "Collecting torchvision<0.18.0,>=0.17.0 (from facenet-pytorch)\n",
      "  Downloading torchvision-0.17.2-cp310-cp310-macosx_11_0_arm64.whl.metadata (6.6 kB)\n",
      "Requirement already satisfied: tqdm<5.0.0,>=4.0.0 in /Applications/anaconda3/envs/dce/lib/python3.10/site-packages (from facenet-pytorch) (4.67.1)\n",
      "Requirement already satisfied: charset-normalizer<4,>=2 in /Applications/anaconda3/envs/dce/lib/python3.10/site-packages (from requests<3.0.0,>=2.0.0->facenet-pytorch) (3.3.2)\n",
      "Requirement already satisfied: idna<4,>=2.5 in /Applications/anaconda3/envs/dce/lib/python3.10/site-packages (from requests<3.0.0,>=2.0.0->facenet-pytorch) (3.7)\n",
      "Requirement already satisfied: urllib3<3,>=1.21.1 in /Applications/anaconda3/envs/dce/lib/python3.10/site-packages (from requests<3.0.0,>=2.0.0->facenet-pytorch) (2.3.0)\n",
      "Requirement already satisfied: certifi>=2017.4.17 in /Applications/anaconda3/envs/dce/lib/python3.10/site-packages (from requests<3.0.0,>=2.0.0->facenet-pytorch) (2025.1.31)\n",
      "Requirement already satisfied: filelock in /Applications/anaconda3/envs/dce/lib/python3.10/site-packages (from torch<2.3.0,>=2.2.0->facenet-pytorch) (3.13.1)\n",
      "Requirement already satisfied: typing-extensions>=4.8.0 in /Users/puravgupta/.local/lib/python3.10/site-packages (from torch<2.3.0,>=2.2.0->facenet-pytorch) (4.12.2)\n",
      "Requirement already satisfied: sympy in /Applications/anaconda3/envs/dce/lib/python3.10/site-packages (from torch<2.3.0,>=2.2.0->facenet-pytorch) (1.13.3)\n",
      "Requirement already satisfied: networkx in /Applications/anaconda3/envs/dce/lib/python3.10/site-packages (from torch<2.3.0,>=2.2.0->facenet-pytorch) (3.4.2)\n",
      "Requirement already satisfied: jinja2 in /Applications/anaconda3/envs/dce/lib/python3.10/site-packages (from torch<2.3.0,>=2.2.0->facenet-pytorch) (3.1.6)\n",
      "Requirement already satisfied: fsspec in /Applications/anaconda3/envs/dce/lib/python3.10/site-packages (from torch<2.3.0,>=2.2.0->facenet-pytorch) (2024.12.0)\n",
      "Requirement already satisfied: MarkupSafe>=2.0 in /Applications/anaconda3/envs/dce/lib/python3.10/site-packages (from jinja2->torch<2.3.0,>=2.2.0->facenet-pytorch) (3.0.2)\n",
      "Requirement already satisfied: mpmath<1.4,>=1.1.0 in /Applications/anaconda3/envs/dce/lib/python3.10/site-packages (from sympy->torch<2.3.0,>=2.2.0->facenet-pytorch) (1.3.0)\n",
      "Downloading facenet_pytorch-2.6.0-py3-none-any.whl (1.9 MB)\n",
      "\u001b[2K   \u001b[90m━━━━━━━━━━━━━━━━━━━━━━━━━━━━━━━━━━━━━━━━\u001b[0m \u001b[32m1.9/1.9 MB\u001b[0m \u001b[31m9.8 MB/s\u001b[0m eta \u001b[36m0:00:00\u001b[0m\n",
      "\u001b[?25hDownloading pillow-10.2.0-cp310-cp310-macosx_11_0_arm64.whl (3.3 MB)\n",
      "\u001b[2K   \u001b[90m━━━━━━━━━━━━━━━━━━━━━━━━━━━━━━━━━━━━━━━━\u001b[0m \u001b[32m3.3/3.3 MB\u001b[0m \u001b[31m9.5 MB/s\u001b[0m eta \u001b[36m0:00:00\u001b[0ma \u001b[36m0:00:01\u001b[0m\n",
      "\u001b[?25hDownloading torch-2.2.2-cp310-none-macosx_11_0_arm64.whl (59.7 MB)\n",
      "\u001b[2K   \u001b[90m━━━━━━━━━━━━━━━━━━━━━━━━━━━━━━━━━━━━━━━━\u001b[0m \u001b[32m59.7/59.7 MB\u001b[0m \u001b[31m8.0 MB/s\u001b[0m eta \u001b[36m0:00:00\u001b[0m00:01\u001b[0m00:01\u001b[0m\n",
      "\u001b[?25hDownloading torchvision-0.17.2-cp310-cp310-macosx_11_0_arm64.whl (1.6 MB)\n",
      "\u001b[2K   \u001b[90m━━━━━━━━━━━━━━━━━━━━━━━━━━━━━━━━━━━━━━━━\u001b[0m \u001b[32m1.6/1.6 MB\u001b[0m \u001b[31m9.5 MB/s\u001b[0m eta \u001b[36m0:00:00\u001b[0m\n",
      "\u001b[?25hInstalling collected packages: Pillow, torch, torchvision, facenet-pytorch\n",
      "  Attempting uninstall: Pillow\n",
      "    Found existing installation: pillow 11.1.0\n",
      "    Uninstalling pillow-11.1.0:\n",
      "      Successfully uninstalled pillow-11.1.0\n",
      "  Attempting uninstall: torch\n",
      "    Found existing installation: torch 2.5.1\n",
      "    Uninstalling torch-2.5.1:\n",
      "      Successfully uninstalled torch-2.5.1\n",
      "  Attempting uninstall: torchvision\n",
      "    Found existing installation: torchvision 0.15.2a0\n",
      "    Uninstalling torchvision-0.15.2a0:\n",
      "      Successfully uninstalled torchvision-0.15.2a0\n",
      "Successfully installed Pillow-10.2.0 facenet-pytorch-2.6.0 torch-2.2.2 torchvision-0.17.2\n",
      "Note: you may need to restart the kernel to use updated packages.\n"
     ]
    }
   ],
   "source": [
    "pip install facenet-pytorch"
   ]
  },
  {
   "cell_type": "code",
   "execution_count": 10,
   "id": "f800cac4",
   "metadata": {},
   "outputs": [
    {
     "name": "stderr",
     "output_type": "stream",
     "text": [
      "2025-04-12 00:44:57.998 python[52056:61217734] +[IMKClient subclass]: chose IMKClient_Modern\n",
      "2025-04-12 00:44:57.998 python[52056:61217734] +[IMKInputSession subclass]: chose IMKInputSession_Modern\n"
     ]
    }
   ],
   "source": [
    "import cv2\n",
    "import time\n",
    "import numpy as np\n",
    "import torch\n",
    "from facenet_pytorch import MTCNN\n",
    "\n",
    "def run_face_detection_with_edges(desired_fps=10, padding_factor=0.2, use_camera_index=0):\n",
    "    \"\"\"\n",
    "    Detects faces from webcam using MTCNN (PyTorch) and applies Canny edge detection to each face region.\n",
    "    \n",
    "    Args:\n",
    "        desired_fps (int): Target frames per second.\n",
    "        padding_factor (float): Padding around detected faces.\n",
    "        use_camera_index (int): Index of the camera to use (default is 0).\n",
    "    \"\"\"\n",
    "    device = torch.device('cuda' if torch.cuda.is_available() else 'cpu')\n",
    "    mtcnn = MTCNN(keep_all=True, device=device)\n",
    "    video_capture = cv2.VideoCapture(use_camera_index)\n",
    "    frame_delay = 1 / desired_fps\n",
    "\n",
    "    while True:\n",
    "        ret, frame = video_capture.read()\n",
    "        if not ret:\n",
    "            break\n",
    "\n",
    "        rgb_frame = cv2.cvtColor(frame, cv2.COLOR_BGR2RGB)\n",
    "        boxes, _ = mtcnn.detect(rgb_frame)\n",
    "\n",
    "        if boxes is not None:\n",
    "            for box in boxes:\n",
    "                x1, y1, x2, y2 = [int(coord) for coord in box]\n",
    "                width = x2 - x1\n",
    "                height = y2 - y1\n",
    "\n",
    "                x_pad = int(width * padding_factor)\n",
    "                y_pad = int(height * padding_factor)\n",
    "                x_new = max(0, x1 - x_pad)\n",
    "                y_new = max(0, y1 - y_pad)\n",
    "                width_new = width + 3 * x_pad\n",
    "                height_new = height + 3 * y_pad\n",
    "\n",
    "                face_region = rgb_frame[y_new:y_new + height_new, x_new:x_new + width_new]\n",
    "                if face_region.size == 0:\n",
    "                    continue\n",
    "\n",
    "                gray_face = cv2.cvtColor(face_region, cv2.COLOR_RGB2GRAY)\n",
    "                blurred_face = cv2.GaussianBlur(gray_face, (5, 5), 1.4)\n",
    "                edges = cv2.Canny(blurred_face, 100, 200)\n",
    "                colored_edges = cv2.cvtColor(edges, cv2.COLOR_GRAY2RGB)\n",
    "\n",
    "                frame[y_new:y_new + height_new, x_new:x_new + width_new] = cv2.cvtColor(colored_edges, cv2.COLOR_RGB2BGR)\n",
    "                cv2.rectangle(frame, (x_new, y_new), (x_new + width_new, y_new + height_new), (0, 255, 0), 2)\n",
    "\n",
    "        cv2.imshow('Face Detection with Canny Edges (PyTorch + MTCNN)', frame)\n",
    "\n",
    "        time.sleep(frame_delay)\n",
    "        if cv2.waitKey(1) & 0xFF == ord('q'):\n",
    "            break\n",
    "\n",
    "    video_capture.release()\n",
    "    cv2.destroyAllWindows()\n",
    "\n",
    "\n",
    "if __name__ == \"__main__\":\n",
    "    \n",
    "    run_face_detection_with_edges()\n"
   ]
  },
  {
   "cell_type": "code",
   "execution_count": null,
   "id": "7829eed3",
   "metadata": {},
   "outputs": [],
   "source": []
  },
  {
   "cell_type": "code",
   "execution_count": null,
   "id": "1aebebf9",
   "metadata": {},
   "outputs": [],
   "source": []
  },
  {
   "cell_type": "code",
   "execution_count": null,
   "id": "38ed5e15",
   "metadata": {},
   "outputs": [],
   "source": []
  }
 ],
 "metadata": {
  "kernelspec": {
   "display_name": "dce",
   "language": "python",
   "name": "python3"
  },
  "language_info": {
   "codemirror_mode": {
    "name": "ipython",
    "version": 3
   },
   "file_extension": ".py",
   "mimetype": "text/x-python",
   "name": "python",
   "nbconvert_exporter": "python",
   "pygments_lexer": "ipython3",
   "version": "3.10.16"
  }
 },
 "nbformat": 4,
 "nbformat_minor": 5
}
